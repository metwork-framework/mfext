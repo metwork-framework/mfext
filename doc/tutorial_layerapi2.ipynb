{
 "cells": [
  {
   "cell_type": "markdown",
   "metadata": {},
   "source": [
    "### Starting point"
   ]
  },
  {
   "cell_type": "code",
   "execution_count": 1,
   "metadata": {},
   "outputs": [],
   "source": [
    "# we prepare an empty directory for the demo\n",
    "rm -Rf ~/metwork/layerapi2_demo\n",
    "mkdir -p ~/metwork/layerapi2_demo\n",
    "cd ~/metwork/layerapi2_demo"
   ]
  },
  {
   "cell_type": "code",
   "execution_count": 2,
   "metadata": {},
   "outputs": [],
   "source": [
    "# we unset METWORK_LAYERS_PATH\n",
    "unset METWORK_LAYERS_PATH"
   ]
  },
  {
   "cell_type": "code",
   "execution_count": 3,
   "metadata": {},
   "outputs": [],
   "source": [
    "# just to have an international language for error messages\n",
    "export LANG=C"
   ]
  },
  {
   "cell_type": "code",
   "execution_count": 4,
   "metadata": {},
   "outputs": [],
   "source": [
    "# define two bash functions to be able to modify the current context\n",
    "function layer_load() {\n",
    "    eval \"$(layer_load_bash_cmds --debug \"$1\")\"\n",
    "}\n",
    "\n",
    "function layer_unload() {\n",
    "    eval \"$(layer_unload_bash_cmds --debug \"$1\")\"\n",
    "}"
   ]
  },
  {
   "cell_type": "code",
   "execution_count": 5,
   "metadata": {},
   "outputs": [
    {
     "name": "stdout",
     "output_type": "stream",
     "text": [
      "\n"
     ]
    }
   ],
   "source": [
    "echo $METWORK_LAYERS_PATH"
   ]
  },
  {
   "cell_type": "markdown",
   "metadata": {},
   "source": [
    "note: the environnement variable is not set"
   ]
  },
  {
   "cell_type": "code",
   "execution_count": 6,
   "metadata": {},
   "outputs": [],
   "source": [
    "# let's see installed layers\n",
    "layers"
   ]
  },
  {
   "cell_type": "markdown",
   "metadata": {},
   "source": [
    "note: of course, no layer installed (because METWORK_LAYERS_PATH is empty)"
   ]
  },
  {
   "cell_type": "markdown",
   "metadata": {},
   "source": [
    "### Bootstraping"
   ]
  },
  {
   "cell_type": "code",
   "execution_count": 7,
   "metadata": {},
   "outputs": [],
   "source": [
    "# Let's bootstrap a first layer (label: layer1_label) in the \"layer1\" subdir\n",
    "bootstrap_layer.sh layer1_label layer1"
   ]
  },
  {
   "cell_type": "code",
   "execution_count": 8,
   "metadata": {},
   "outputs": [],
   "source": [
    "# Let's bootstrap a second layer (label: layer2_label) in the \"layer2\" subdir\n",
    "bootstrap_layer.sh layer2_label layer2"
   ]
  },
  {
   "cell_type": "code",
   "execution_count": 9,
   "metadata": {},
   "outputs": [
    {
     "name": "stdout",
     "output_type": "stream",
     "text": [
      "./layer1\n",
      "./layer1/bin\n",
      "./layer1/lib\n",
      "./layer1/lib/python3.5\n",
      "./layer1/lib/python3.5/site-packages\n",
      "./layer1/lib/pkgconfig\n",
      "./layer2\n",
      "./layer2/bin\n",
      "./layer2/lib\n",
      "./layer2/lib/python3.5\n",
      "./layer2/lib/python3.5/site-packages\n",
      "./layer2/lib/pkgconfig\n"
     ]
    }
   ],
   "source": [
    "find . -type d |grep layer"
   ]
  },
  {
   "cell_type": "markdown",
   "metadata": {},
   "source": [
    "we have two empty layer structures"
   ]
  },
  {
   "cell_type": "code",
   "execution_count": 10,
   "metadata": {},
   "outputs": [
    {
     "name": "stdout",
     "output_type": "stream",
     "text": [
      "./layer1/.layerapi2_label\n",
      "./layer2/.layerapi2_label\n"
     ]
    }
   ],
   "source": [
    "find . -type f |grep layer"
   ]
  },
  {
   "cell_type": "code",
   "execution_count": 11,
   "metadata": {},
   "outputs": [
    {
     "name": "stdout",
     "output_type": "stream",
     "text": [
      "layer1_label\n"
     ]
    }
   ],
   "source": [
    "cat layer1/.layerapi2_label"
   ]
  },
  {
   "cell_type": "code",
   "execution_count": 12,
   "metadata": {},
   "outputs": [
    {
     "name": "stdout",
     "output_type": "stream",
     "text": [
      "layer2_label\n"
     ]
    }
   ],
   "source": [
    "cat layer2/.layerapi2_label"
   ]
  },
  {
   "cell_type": "markdown",
   "metadata": {},
   "source": [
    "note: label files are also bootstrapped"
   ]
  },
  {
   "cell_type": "code",
   "execution_count": 13,
   "metadata": {},
   "outputs": [],
   "source": [
    "# let's say that layer2 depends on layer1\n",
    "echo \"layer1_label\" >layer2/.layerapi2_dependencies"
   ]
  },
  {
   "cell_type": "code",
   "execution_count": 14,
   "metadata": {},
   "outputs": [],
   "source": [
    "# let's see installed layers\n",
    "layers"
   ]
  },
  {
   "cell_type": "markdown",
   "metadata": {},
   "source": [
    "note: still nothing because METWORK_LAYERS_PATH is still empty"
   ]
  },
  {
   "cell_type": "markdown",
   "metadata": {},
   "source": [
    "### Basic features"
   ]
  },
  {
   "cell_type": "code",
   "execution_count": 15,
   "metadata": {},
   "outputs": [],
   "source": [
    "# Let's set a METWORK_LAYERS_PATH\n",
    "export METWORK_LAYERS_PATH=/home/fab/metwork/layerapi2_demo"
   ]
  },
  {
   "cell_type": "code",
   "execution_count": 16,
   "metadata": {},
   "outputs": [
    {
     "name": "stdout",
     "output_type": "stream",
     "text": [
      "- layer1_label [/home/fab/metwork/layerapi2_demo/layer1]\n",
      "- layer2_label [/home/fab/metwork/layerapi2_demo/layer2]\n"
     ]
    }
   ],
   "source": [
    "# let's see installed layers\n",
    "layers"
   ]
  },
  {
   "cell_type": "markdown",
   "metadata": {},
   "source": [
    "note : our two layers are found"
   ]
  },
  {
   "cell_type": "code",
   "execution_count": 17,
   "metadata": {},
   "outputs": [],
   "source": [
    "layers --loaded-filter=yes"
   ]
  },
  {
   "cell_type": "markdown",
   "metadata": {},
   "source": [
    "note: nothing because our two layers are not loaded"
   ]
  },
  {
   "cell_type": "code",
   "execution_count": 18,
   "metadata": {},
   "outputs": [
    {
     "name": "stdout",
     "output_type": "stream",
     "text": [
      "1\n",
      "0\n"
     ]
    }
   ],
   "source": [
    "# same thing but with other utilities\n",
    "is_layer_installed layer1_label\n",
    "is_layer_loaded layer1_label"
   ]
  },
  {
   "cell_type": "code",
   "execution_count": 19,
   "metadata": {},
   "outputs": [],
   "source": [
    "# let's add a tool in the layer1\n",
    "cat >layer1/bin/mytool <<EOF\n",
    "#!/bin/bash\n",
    "\n",
    "echo \"it works\"\n",
    "EOF\n",
    "chmod +x layer1/bin/mytool"
   ]
  },
  {
   "cell_type": "code",
   "execution_count": 20,
   "metadata": {},
   "outputs": [
    {
     "name": "stdout",
     "output_type": "stream",
     "text": [
      "it works\n"
     ]
    }
   ],
   "source": [
    "# let's test it manually\n",
    "layer1/bin/mytool"
   ]
  },
  {
   "cell_type": "code",
   "execution_count": 21,
   "metadata": {},
   "outputs": [
    {
     "name": "stdout",
     "output_type": "stream",
     "text": [
      "bash: mytool: command not found\n"
     ]
    },
    {
     "ename": "",
     "evalue": "127",
     "output_type": "error",
     "traceback": []
    }
   ],
   "source": [
    "# let's test it through the PATH\n",
    "mytool"
   ]
  },
  {
   "cell_type": "markdown",
   "metadata": {},
   "source": [
    "note: \"not found\" because mytool is not in the current PATH"
   ]
  },
  {
   "cell_type": "code",
   "execution_count": 22,
   "metadata": {},
   "outputs": [
    {
     "name": "stdout",
     "output_type": "stream",
     "text": [
      "[DEBUG]: loading layer1_label[/home/fab/metwork/layerapi2_demo/layer1]\n"
     ]
    }
   ],
   "source": [
    "# let's load the layer1\n",
    "layer_load layer1_label"
   ]
  },
  {
   "cell_type": "code",
   "execution_count": 23,
   "metadata": {},
   "outputs": [
    {
     "name": "stdout",
     "output_type": "stream",
     "text": [
      "- (*) layer1_label [/home/fab/metwork/layerapi2_demo/layer1]\n",
      "- layer2_label [/home/fab/metwork/layerapi2_demo/layer2]\n"
     ]
    }
   ],
   "source": [
    "layers"
   ]
  },
  {
   "cell_type": "markdown",
   "metadata": {},
   "source": [
    "note: the layer1 is loaded"
   ]
  },
  {
   "cell_type": "code",
   "execution_count": 24,
   "metadata": {},
   "outputs": [
    {
     "name": "stdout",
     "output_type": "stream",
     "text": [
      "it works\n"
     ]
    }
   ],
   "source": [
    "# let's test it through the PATH\n",
    "mytool"
   ]
  },
  {
   "cell_type": "code",
   "execution_count": 25,
   "metadata": {},
   "outputs": [
    {
     "name": "stdout",
     "output_type": "stream",
     "text": [
      "[DEBUG]: unloading layer1_label[/home/fab/metwork/layerapi2_demo/layer1]\n"
     ]
    }
   ],
   "source": [
    "# let's unload the layer1\n",
    "layer_unload layer1_label"
   ]
  },
  {
   "cell_type": "code",
   "execution_count": 26,
   "metadata": {},
   "outputs": [
    {
     "name": "stdout",
     "output_type": "stream",
     "text": [
      "bash: mytool: command not found\n"
     ]
    },
    {
     "ename": "",
     "evalue": "127",
     "output_type": "error",
     "traceback": []
    }
   ],
   "source": [
    "# let's test\n",
    "mytool"
   ]
  },
  {
   "cell_type": "code",
   "execution_count": 27,
   "metadata": {},
   "outputs": [
    {
     "name": "stdout",
     "output_type": "stream",
     "text": [
      "it works\n"
     ]
    }
   ],
   "source": [
    "# if we want to execute mytool without changing the current context\n",
    "layer_wrapper --layers=layer1_label -- mytool"
   ]
  },
  {
   "cell_type": "code",
   "execution_count": 28,
   "metadata": {},
   "outputs": [
    {
     "name": "stdout",
     "output_type": "stream",
     "text": [
      "0\n"
     ]
    }
   ],
   "source": [
    "is_layer_loaded layer1_label"
   ]
  },
  {
   "cell_type": "markdown",
   "metadata": {},
   "source": [
    "note: the current context is not changed, the layer is not loaded"
   ]
  },
  {
   "cell_type": "markdown",
   "metadata": {},
   "source": [
    "### Dependencies"
   ]
  },
  {
   "cell_type": "code",
   "execution_count": 29,
   "metadata": {},
   "outputs": [
    {
     "name": "stdout",
     "output_type": "stream",
     "text": [
      "- layer1_label [/home/fab/metwork/layerapi2_demo/layer1]\n",
      "- layer2_label [/home/fab/metwork/layerapi2_demo/layer2]\n"
     ]
    }
   ],
   "source": [
    "layers"
   ]
  },
  {
   "cell_type": "markdown",
   "metadata": {},
   "source": [
    "note: nothing is loaded"
   ]
  },
  {
   "cell_type": "code",
   "execution_count": 30,
   "metadata": {},
   "outputs": [
    {
     "name": "stdout",
     "output_type": "stream",
     "text": [
      "layer1_label\n"
     ]
    }
   ],
   "source": [
    "cat layer2/.layerapi2_dependencies"
   ]
  },
  {
   "cell_type": "markdown",
   "metadata": {},
   "source": [
    "note: the layer2 depends on layer1"
   ]
  },
  {
   "cell_type": "code",
   "execution_count": 31,
   "metadata": {},
   "outputs": [
    {
     "name": "stdout",
     "output_type": "stream",
     "text": [
      "[DEBUG]: layer layer2_label[/home/fab/metwork/layerapi2_demo/layer2] depends on not loaded layer layer1_label[/home/fab/metwork/layerapi2_demo/layer1] =>                             loading layer1_label\n",
      "[DEBUG]: loading layer1_label[/home/fab/metwork/layerapi2_demo/layer1]\n",
      "[DEBUG]: loading layer2_label[/home/fab/metwork/layerapi2_demo/layer2]\n"
     ]
    }
   ],
   "source": [
    "# let's load the layer2 in the current context\n",
    "layer_load layer2_label"
   ]
  },
  {
   "cell_type": "code",
   "execution_count": 32,
   "metadata": {},
   "outputs": [
    {
     "name": "stdout",
     "output_type": "stream",
     "text": [
      "- (*) layer1_label [/home/fab/metwork/layerapi2_demo/layer1]\n",
      "- (*) layer2_label [/home/fab/metwork/layerapi2_demo/layer2]\n"
     ]
    }
   ],
   "source": [
    "layers"
   ]
  },
  {
   "cell_type": "markdown",
   "metadata": {},
   "source": [
    "note: both layers are loaded"
   ]
  },
  {
   "cell_type": "code",
   "execution_count": 33,
   "metadata": {},
   "outputs": [
    {
     "name": "stdout",
     "output_type": "stream",
     "text": [
      "[DEBUG]: unloading layer1_label[/home/fab/metwork/layerapi2_demo/layer1]\n",
      "[DEBUG]: layer layer2_label[/home/fab/metwork/layerapi2_demo/layer2] depends on missing dependency on layer layer1_label[/home/fab/metwork/layerapi2_demo/layer1]                                 => unloading layer2_label\n",
      "[DEBUG]: unloading layer2_label[/home/fab/metwork/layerapi2_demo/layer2]\n"
     ]
    }
   ],
   "source": [
    "# let's unload the layer1\n",
    "layer_unload layer1_label"
   ]
  },
  {
   "cell_type": "code",
   "execution_count": 34,
   "metadata": {},
   "outputs": [
    {
     "name": "stdout",
     "output_type": "stream",
     "text": [
      "- layer1_label [/home/fab/metwork/layerapi2_demo/layer1]\n",
      "- layer2_label [/home/fab/metwork/layerapi2_demo/layer2]\n"
     ]
    }
   ],
   "source": [
    "layers"
   ]
  },
  {
   "cell_type": "markdown",
   "metadata": {},
   "source": [
    "note: the layer2 is also unloaded (because it depends on layer1)"
   ]
  },
  {
   "cell_type": "markdown",
   "metadata": {},
   "source": [
    "### Conflicts\n",
    "\n",
    "FIXME"
   ]
  }
 ],
 "metadata": {
  "kernelspec": {
   "display_name": "Bash",
   "language": "bash",
   "name": "bash"
  },
  "language_info": {
   "codemirror_mode": "shell",
   "file_extension": ".sh",
   "mimetype": "text/x-sh",
   "name": "bash"
  }
 },
 "nbformat": 4,
 "nbformat_minor": 2
}
